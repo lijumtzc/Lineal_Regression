{
 "cells": [
  {
   "cell_type": "markdown",
   "metadata": {
    "colab_type": "text",
    "id": "b6gxWNL-KblX"
   },
   "source": [
    "## Database relate to the passengers of the Titanic\n",
    "\n",
    "### Features:\n",
    "\n",
    "* age\n",
    "* fare\n",
    "* embarked: S, C, Q\n",
    "* cabin\n",
    "* pclass: 1, 2, 3\n",
    "* sex\n",
    "* sibsp: number of siblings and spouses traveling with the passenger\n",
    "* parch: number of parents and children traveling with the passenger\n",
    "* ticket\n",
    "* survival: 0, 1"
   ]
  },
  {
   "cell_type": "code",
   "execution_count": 0,
   "metadata": {
    "ExecuteTime": {
     "end_time": "2020-05-22T02:05:46.177369Z",
     "start_time": "2020-05-22T02:05:45.551722Z"
    },
    "colab": {},
    "colab_type": "code",
    "id": "KXRxrmYeKblZ"
   },
   "outputs": [],
   "source": [
    "# Imports \n",
    "# linear algebra\n",
    "import numpy as np\n",
    "from numpy import savetxt\n",
    "\n",
    "# data processing\n",
    "import pandas as pd\n",
    "\n",
    "# Algorithms\n",
    "from sklearn.pipeline import make_pipeline\n",
    "from sklearn.preprocessing import StandardScaler\n",
    "from sklearn.preprocessing import PolynomialFeatures\n",
    "from sklearn import linear_model\n",
    "from sklearn.linear_model import LogisticRegression\n",
    "from sklearn import metrics\n",
    "from sklearn.tree import DecisionTreeClassifier\n",
    "from sklearn.neighbors import KNeighborsClassifier\n",
    "from sklearn.model_selection import cross_val_score\n",
    "from sklearn.model_selection import cross_val_predict\n",
    "from sklearn.metrics import confusion_matrix\n",
    "from sklearn.metrics import plot_confusion_matrix\n",
    "from sklearn.metrics  import precision_score, recall_score\n",
    "from sklearn.metrics import f1_score\n",
    "# Warnings\n",
    "import warnings\n",
    "warnings.filterwarnings(\"ignore\")"
   ]
  },
  {
   "cell_type": "code",
   "execution_count": 0,
   "metadata": {
    "ExecuteTime": {
     "end_time": "2020-05-22T02:05:48.295877Z",
     "start_time": "2020-05-22T02:05:47.160505Z"
    },
    "colab": {},
    "colab_type": "code",
    "id": "589ULGNpKbli"
   },
   "outputs": [],
   "source": [
    "url = 'https://raw.githubusercontent.com/Alveuz/RandomDataSets/master/Titanic/TitanicTrain.csv'\n",
    "train_df = pd.read_csv(url)"
   ]
  },
  {
   "cell_type": "code",
   "execution_count": 0,
   "metadata": {
    "ExecuteTime": {
     "end_time": "2020-05-22T02:05:59.332535Z",
     "start_time": "2020-05-22T02:05:59.299628Z"
    },
    "colab": {},
    "colab_type": "code",
    "id": "TKhFPKkHKbmY"
   },
   "outputs": [],
   "source": [
    "train_df['embarked'] = train_df['embarked'].replace('missing', 'S')\n",
    "emabarked = pd.get_dummies(train_df['embarked'])\n",
    "train_df = pd.concat([train_df, emabarked], axis = 1)\n",
    "sex = pd.get_dummies(train_df['sex'])\n",
    "train_df = pd.concat([train_df, sex], axis = 1)\n",
    "pclass = pd.get_dummies(train_df['pclass'])\n",
    "train_df = pd.concat([train_df, pclass], axis = 1)\n",
    "train_df.columns = [str(column) for column in train_df.columns]\n",
    "train_df = train_df.rename(columns={'1': 'Class_1', '2': 'Class_2', '3': 'Class_3'}) #Renombramos\n",
    "train_df = train_df.drop(columns=['embarked', 'cabin', 'pclass', 'sex', 'ticket']) #Eliminamos"
   ]
  },
  {
   "cell_type": "code",
   "execution_count": 0,
   "metadata": {
    "ExecuteTime": {
     "end_time": "2020-05-22T02:06:00.607159Z",
     "start_time": "2020-05-22T02:06:00.593217Z"
    },
    "colab": {},
    "colab_type": "code",
    "id": "tuYx3rfhKbmm"
   },
   "outputs": [],
   "source": [
    "y_train = train_df[[\"survival\"]]\n",
    "train_df = train_df.drop(columns=['survival'])\n",
    "X_train = train_df"
   ]
  },
  {
   "cell_type": "code",
   "execution_count": 0,
   "metadata": {
    "ExecuteTime": {
     "end_time": "2020-05-22T02:06:02.537284Z",
     "start_time": "2020-05-22T02:06:02.130048Z"
    },
    "colab": {},
    "colab_type": "code",
    "id": "qdEcjUClKbmy"
   },
   "outputs": [],
   "source": [
    "url = 'https://raw.githubusercontent.com/Alveuz/RandomDataSets/master/Titanic/TitanicTest.csv'\n",
    "test_df = pd.read_csv(url)"
   ]
  },
  {
   "cell_type": "code",
   "execution_count": 0,
   "metadata": {
    "ExecuteTime": {
     "end_time": "2020-05-22T02:06:02.820676Z",
     "start_time": "2020-05-22T02:06:02.792190Z"
    },
    "colab": {},
    "colab_type": "code",
    "id": "vdofLr4lKbm4"
   },
   "outputs": [],
   "source": [
    "emabarked = pd.get_dummies(test_df['embarked'])\n",
    "test_df = pd.concat([test_df, emabarked], axis = 1)\n",
    "sex = pd.get_dummies(test_df['sex'])\n",
    "test_df = pd.concat([test_df, sex], axis = 1)\n",
    "pclass = pd.get_dummies(test_df['pclass'])\n",
    "test_df = pd.concat([test_df, pclass], axis = 1)\n",
    "test_df.columns = [str(column) for column in test_df.columns]\n",
    "test_df = test_df.rename(columns={'1': 'Class_1', '2': 'Class_2', '3': 'Class_3'}) #Renombramos\n",
    "test_df = test_df.drop(columns=['embarked', 'cabin', 'pclass', 'sex', 'ticket']) #Eliminamos"
   ]
  },
  {
   "cell_type": "code",
   "execution_count": 0,
   "metadata": {
    "ExecuteTime": {
     "end_time": "2020-05-22T02:06:03.633171Z",
     "start_time": "2020-05-22T02:06:03.624816Z"
    },
    "colab": {},
    "colab_type": "code",
    "id": "aLnN_yVMKbnF"
   },
   "outputs": [],
   "source": [
    "X_test = test_df"
   ]
  },
  {
   "cell_type": "code",
   "execution_count": 0,
   "metadata": {
    "ExecuteTime": {
     "end_time": "2020-05-22T02:06:03.943116Z",
     "start_time": "2020-05-22T02:06:03.926752Z"
    },
    "colab": {},
    "colab_type": "code",
    "id": "8kgKUZ4eKbnM"
   },
   "outputs": [],
   "source": [
    "std_scl = StandardScaler()\n",
    "poly = PolynomialFeatures(3)\n",
    "logreg = LogisticRegression()\n",
    "knn = KNeighborsClassifier(n_neighbors = 3) \n",
    "decision_tree = DecisionTreeClassifier(criterion='gini') "
   ]
  },
  {
   "cell_type": "code",
   "execution_count": 169,
   "metadata": {
    "ExecuteTime": {
     "end_time": "2020-05-22T02:06:04.343575Z",
     "start_time": "2020-05-22T02:06:04.338146Z"
    },
    "colab": {
     "base_uri": "https://localhost:8080/",
     "height": 158
    },
    "colab_type": "code",
    "id": "UzQLIVQNKbnS",
    "outputId": "711004e4-bc69-45e7-f1b3-c6c744d1bf83"
   },
   "outputs": [
    {
     "name": "stdout",
     "output_type": "stream",
     "text": [
      "Criterio de evaluación para el modelo de Regresión Logística: 84.34\n",
      "Este modelo tiene una precisión del 78.32% con una desviación estándar de 3.08% de los datos de prueba\n",
      "Confusion matrix:\n",
      " [[555  92]\n",
      " [138 262]]\n",
      "Del predictor, precisión: 0.7401129943502824\n",
      "Recall: 0.655\n",
      "f1: 0.6949602122015915\n"
     ]
    }
   ],
   "source": [
    "model_lr = make_pipeline(std_scl,\n",
    "                         poly,\n",
    "                         logreg)\n",
    "\n",
    "model_lr.fit(X_train, y_train)\n",
    "y_predict = model_lr.predict(X_test)\n",
    "savetxt('y_predict_lr.csv', y_predict, delimiter=',')\n",
    "model_lr.score(X_train, y_train)\n",
    "acc_model = round(model_lr.score(X_train, y_train) * 100, 2)\n",
    "print(f'Criterio de evaluación para el modelo de Regresión Logística: {acc_model}')\n",
    "scores = cross_val_score(model_lr, X_train, y_train, cv = 10, scoring = \"accuracy\", n_jobs = -1)\n",
    "print(f'Este modelo tiene una precisión del {np.round(scores.mean()*100,2)}% con una desviación estándar de {np.round(scores.std()*100,2)}% de los datos de prueba')\n",
    "predictions_lr = cross_val_predict(model_lr, X_train, y_train, cv = 5, n_jobs = -1)\n",
    "print(f'Confusion matrix:\\n {confusion_matrix(y_train, predictions_lr)}')\n",
    "print(f'Del predictor, precisión: {precision_score (y_train, predictions_lr)}') \n",
    "print(f'Recall: {recall_score (y_train, predictions_lr)}')\n",
    "print(f'f1: {f1_score(y_train, predictions_lr)}')"
   ]
  },
  {
   "cell_type": "markdown",
   "metadata": {
    "colab_type": "text",
    "id": "xcX7oH-LkO_l"
   },
   "source": [
    "Este modelo **model_lr** nos dice que puede predecir 74% bien el número de pasajeros que sobrevivieron. De los que sobreviven, tenemos un 65.5% de confianza en que si soobrevivieron."
   ]
  },
  {
   "cell_type": "code",
   "execution_count": 170,
   "metadata": {
    "colab": {
     "base_uri": "https://localhost:8080/",
     "height": 158
    },
    "colab_type": "code",
    "id": "BgCNwnUTcv-B",
    "outputId": "95de9233-e05b-4899-ceca-c22afb3b7443"
   },
   "outputs": [
    {
     "name": "stdout",
     "output_type": "stream",
     "text": [
      "Criterio de evaluación para el modelo de Regresión Logística: 86.15\n",
      "Este modelo tiene una precisión del 77.18% con una desviación estándar de 3.83% de los datos de prueba\n",
      "Confusion matrix:\n",
      " [[541 106]\n",
      " [128 272]]\n",
      "Del predictor, precisión: 0.7195767195767195\n",
      "Recall: 0.68\n",
      "f1: 0.6992287917737788\n"
     ]
    }
   ],
   "source": [
    "model_knn = make_pipeline(std_scl,\n",
    "                          poly,\n",
    "                          knn)\n",
    "\n",
    "model_knn.fit(X_train, y_train)  \n",
    "y_predict = model_knn.predict(X_test) \n",
    "savetxt('y_predict_knn.csv', y_predict, delimiter=',') \n",
    "acc_knn = round(model_knn.score(X_train, y_train) * 100, 2)\n",
    "print(f'Criterio de evaluación para el modelo de Regresión Logística: {acc_knn}')\n",
    "scores = cross_val_score(model_knn, X_train, y_train, cv = 10, scoring = \"accuracy\", n_jobs = -1)\n",
    "print(f'Este modelo tiene una precisión del {np.round(scores.mean()*100,2)}% con una desviación estándar de {np.round(scores.std()*100,2)}% de los datos de prueba')\n",
    "predictions_knn = cross_val_predict(model_knn, X_train, y_train, cv = 5, n_jobs = -1)\n",
    "print(f'Confusion matrix:\\n {confusion_matrix(y_train, predictions_knn)}')\n",
    "print(f'Del predictor, precisión: {precision_score (y_train, predictions_knn)}') \n",
    "print(f'Recall: {recall_score (y_train, predictions_knn)}')\n",
    "print(f'f1: {f1_score(y_train, predictions_knn)}')"
   ]
  },
  {
   "cell_type": "markdown",
   "metadata": {
    "colab_type": "text",
    "id": "1xC07QiMpG7h"
   },
   "source": [
    "Este modelo **model_knn** nos dice que puede predecir 71.9% bien el número de pasajeros que sobrevivieron. De los que sobreviven, tenemos un 68% de confianza en que si soobrevivieron."
   ]
  },
  {
   "cell_type": "code",
   "execution_count": 171,
   "metadata": {
    "colab": {
     "base_uri": "https://localhost:8080/",
     "height": 158
    },
    "colab_type": "code",
    "id": "U4UMi7CsdZMn",
    "outputId": "79ca6437-84a1-4f9f-871a-c96bfa3d3ab9"
   },
   "outputs": [
    {
     "name": "stdout",
     "output_type": "stream",
     "text": [
      "Criterio de evaluación para el modelo de Regresión Logística: 96.94\n",
      "Este modelo tiene una precisión del 74.5% con una desviación estándar de 2.64% de los datos de prueba\n",
      "Confusion matrix:\n",
      " [[531 116]\n",
      " [147 253]]\n",
      "Del predictor, precisión: 0.6856368563685636\n",
      "Recall: 0.6325\n",
      "f1: 0.6579973992197659\n"
     ]
    }
   ],
   "source": [
    "model_dt = make_pipeline(std_scl,\n",
    "                          poly,\n",
    "                          decision_tree)\n",
    "\n",
    "model_dt.fit(X_train, y_train)  \n",
    "y_predict = model_dt.predict(X_test)  \n",
    "savetxt('y_predict_dt.csv', y_predict, delimiter=',')\n",
    "acc_dt = round(model_dt.score(X_train, y_train) * 100, 2)\n",
    "print(f'Criterio de evaluación para el modelo de Regresión Logística: {acc_dt}')\n",
    "scores = cross_val_score(model_dt, X_train, y_train, cv = 10, scoring = \"accuracy\", n_jobs = -1)\n",
    "print(f'Este modelo tiene una precisión del {np.round(scores.mean()*100,2)}% con una desviación estándar de {np.round(scores.std()*100,2)}% de los datos de prueba')\n",
    "predictions_dt = cross_val_predict(model_dt, X_train, y_train, cv = 5, n_jobs = -1)\n",
    "print(f'Confusion matrix:\\n {confusion_matrix(y_train, predictions_dt)}')\n",
    "print(f'Del predictor, precisión: {precision_score (y_train, predictions_dt)}') \n",
    "print(f'Recall: {recall_score (y_train, predictions_dt)}')\n",
    "print(f'f1: {f1_score(y_train, predictions_dt)}')"
   ]
  },
  {
   "cell_type": "markdown",
   "metadata": {
    "colab_type": "text",
    "id": "QjVs51xZpnR7"
   },
   "source": [
    "Este modelo **model_dt** nos dice que puede predecir 68% bien el número de pasajeros que sobrevivieron. De los que sobreviven, tenemos un 63% de confianza en que si soobrevivieron."
   ]
  },
  {
   "cell_type": "code",
   "execution_count": 0,
   "metadata": {
    "colab": {},
    "colab_type": "code",
    "id": "X0T9rDg4Vxbq"
   },
   "outputs": [],
   "source": []
  }
 ],
 "metadata": {
  "colab": {
   "name": "Titan_Titanic.ipynb",
   "provenance": [],
   "toc_visible": true
  },
  "hide_input": false,
  "kernelspec": {
   "display_name": "Python 3",
   "language": "python",
   "name": "python3"
  },
  "language_info": {
   "codemirror_mode": {
    "name": "ipython",
    "version": 3
   },
   "file_extension": ".py",
   "mimetype": "text/x-python",
   "name": "python",
   "nbconvert_exporter": "python",
   "pygments_lexer": "ipython3",
   "version": "3.7.6"
  },
  "toc": {
   "base_numbering": 1,
   "nav_menu": {},
   "number_sections": true,
   "sideBar": true,
   "skip_h1_title": false,
   "title_cell": "Table of Contents",
   "title_sidebar": "Contents",
   "toc_cell": false,
   "toc_position": {},
   "toc_section_display": true,
   "toc_window_display": false
  }
 },
 "nbformat": 4,
 "nbformat_minor": 1
}
